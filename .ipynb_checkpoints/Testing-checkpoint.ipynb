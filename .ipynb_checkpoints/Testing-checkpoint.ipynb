{
 "cells": [
  {
   "cell_type": "code",
   "execution_count": 15,
   "metadata": {},
   "outputs": [],
   "source": [
    "# Analysis of Air Quality during The Covid19 Pandemic\n",
    "# TESTING FILE\n",
    "\n",
    "#import os\n",
    "#import matplotlib.pyplot as plt\n",
    "#import numpy as np\n",
    "#from google.cloud import bigquery"
   ]
  },
  {
   "cell_type": "code",
   "execution_count": 30,
   "metadata": {},
   "outputs": [],
   "source": [
    "#os.environ[\"GOOGLE_APPLICATION_CREDENTIALS\"]=\"/home/jovyan/notebooks/CMSC320FinalProject-235d97f10aa6.json\""
   ]
  },
  {
   "cell_type": "code",
   "execution_count": 73,
   "metadata": {},
   "outputs": [],
   "source": [
    "#client = bigquery.Client()\n",
    "\n",
    "#QUERY = (\"\"\"\n",
    "          #SELECT country, city, location, timestamp, pollutant, value FROM `bigquery-public-data.openaq.global_air_quality`\n",
    "          #WHERE country like 'US'\n",
    "          #AND pollutant like 'pm25'\n",
    "          #AND timestamp >= '2020-05-01 00:00:00 UTC'\n",
    "          #AND timestamp <= '2020-06-01 00:00:00 UTC'\n",
    "          #ORDER BY timestamp\n",
    "        #\"\"\")\n",
    "\n",
    "#query_job = client.query(QUERY)\n",
    "#rows = query_job.result()\n",
    "#raw_cases = pd.read_gbq(QUERY, project_id=\"cmsc320finalproject\",dialect='standard')\n",
    "#raw_cases"
   ]
  },
  {
   "cell_type": "code",
   "execution_count": 74,
   "metadata": {},
   "outputs": [],
   "source": [
    "#import airnowpy"
   ]
  },
  {
   "cell_type": "code",
   "execution_count": 80,
   "metadata": {},
   "outputs": [],
   "source": [
    "#api_key = '65842CF2-80D1-4ECC-A37B-CD62E3A42E7E'\n",
    "#api_connect = airnowpy.API(api_key)\n",
    "\n",
    "#api_connect.getCurrentObservationByZipCode('ZIPCODE')"
   ]
  },
  {
   "cell_type": "code",
   "execution_count": 111,
   "metadata": {},
   "outputs": [],
   "source": [
    "import requests\n",
    "import pandas as pd\n",
    "import numpy as np"
   ]
  },
  {
   "cell_type": "code",
   "execution_count": 107,
   "metadata": {},
   "outputs": [],
   "source": [
    "sample_zip_codes = {\n",
    "    'AL' : '36104', \n",
    "    'AK' : '99801', \n",
    "    'AZ' : '85001',\n",
    "    'AR' : '72201',\n",
    "    'CA' : '95814',\n",
    "    'CO' : '80202',\n",
    "    'CT' : '06103',\n",
    "    'DE' : '19901',\n",
    "    'FL' : '32301',\n",
    "    'GA' : '30303',\n",
    "    'HI' : '96813',\n",
    "    'ID' : '83702',\n",
    "    'IL' : '62701',\n",
    "    'IN' : '46225',\n",
    "    'IA' : '50309',\n",
    "    'KS' : '66603',\n",
    "    'KY' : '40601',\n",
    "    'LA' : '70802',\n",
    "    'ME' : '04330',\n",
    "    'MD' : '21401',\n",
    "    'MA' : '02201',\n",
    "    'MI' : '48933',\n",
    "    'MN' : '55102',\n",
    "    'MS' : '39205',\n",
    "    'MO' : '65101',\n",
    "    'MT' : '59623',\n",
    "    'NE' : '68502',\n",
    "    'NV' : '89701',\n",
    "    'NH' : '03301',\n",
    "    'NJ' : '08608',\n",
    "    'NM' : '87501',\n",
    "    'NY' : '12207',\n",
    "    'NC' : '27601',\n",
    "    'ND' : '58501',\n",
    "    'OH' : '43215',\n",
    "    'OK' : '73102',\n",
    "    'OR' : '97301',\n",
    "    'PA' : '17101',\n",
    "    'RI' : '02903',\n",
    "    'SC' : '29217',\n",
    "    'SD' : '57501',\n",
    "    'TN' : '37219',\n",
    "    'TX' : '78701',\n",
    "    'UT' : '84111',\n",
    "    'VT' : '05602',\n",
    "    'VA' : '23219',\n",
    "    'WA' : '98507',\n",
    "    'WV' : '25301',\n",
    "    'WI' : '53703',\n",
    "    'WY' : '82001',\n",
    "    'DC' : '20001'\n",
    "}"
   ]
  },
  {
   "cell_type": "code",
   "execution_count": null,
   "metadata": {},
   "outputs": [],
   "source": []
  },
  {
   "cell_type": "code",
   "execution_count": 157,
   "metadata": {},
   "outputs": [],
   "source": [
    "api_key = '65842CF2-80D1-4ECC-A37B-CD62E3A42E7E'\n",
    "\n",
    "def historial_airnow_api_call(zip_code, date, distance):\n",
    "    built_call = 'http://www.airnowapi.org/aq/observation/zipCode/historical/?format=application/json&zipCode=%s&date=%sT00-0000&distance=50&API_KEY=%s' % (zip_code, date, api_key)\n",
    "    return pd.DataFrame(requests.get(built_call).json())\n",
    "\n",
    "def get_may_raw_data():\n",
    "    return_df = historial_airnow_api_call('20001', '2020-05-01', '50')\n",
    "    \n",
    "    for zip_code in sample_zip_codes.values():\n",
    "        return_df.append(historial_airnow_api_call(zip_code, '2020-05-01', '50'))\n",
    "    \n",
    "    return return_df\n",
    "        \n",
    "\n"
   ]
  },
  {
   "cell_type": "code",
   "execution_count": 153,
   "metadata": {},
   "outputs": [],
   "source": [
    "#response0 = historial_airnow_api_call('20001', '2020-05-01', '50')\n",
    "#response1 = historial_airnow_api_call('20886', '2020-05-02', '50')\n",
    "\n",
    "#df0 = pd.DataFrame(response0)\n",
    "#df1 = pd.DataFrame(response1)\n",
    "\n",
    "#merged = df0.append(df1)\n",
    "#merged"
   ]
  },
  {
   "cell_type": "code",
   "execution_count": null,
   "metadata": {
    "scrolled": true
   },
   "outputs": [],
   "source": []
  },
  {
   "cell_type": "code",
   "execution_count": null,
   "metadata": {},
   "outputs": [],
   "source": []
  },
  {
   "cell_type": "code",
   "execution_count": null,
   "metadata": {},
   "outputs": [],
   "source": [
    "\n"
   ]
  },
  {
   "cell_type": "code",
   "execution_count": null,
   "metadata": {},
   "outputs": [],
   "source": []
  },
  {
   "cell_type": "code",
   "execution_count": null,
   "metadata": {},
   "outputs": [],
   "source": []
  },
  {
   "cell_type": "code",
   "execution_count": null,
   "metadata": {},
   "outputs": [],
   "source": []
  },
  {
   "cell_type": "code",
   "execution_count": null,
   "metadata": {},
   "outputs": [],
   "source": []
  },
  {
   "cell_type": "code",
   "execution_count": null,
   "metadata": {},
   "outputs": [],
   "source": []
  },
  {
   "cell_type": "code",
   "execution_count": null,
   "metadata": {},
   "outputs": [],
   "source": []
  },
  {
   "cell_type": "code",
   "execution_count": null,
   "metadata": {},
   "outputs": [],
   "source": []
  }
 ],
 "metadata": {
  "kernelspec": {
   "display_name": "Python 3",
   "language": "python",
   "name": "python3"
  },
  "language_info": {
   "codemirror_mode": {
    "name": "ipython",
    "version": 3
   },
   "file_extension": ".py",
   "mimetype": "text/x-python",
   "name": "python",
   "nbconvert_exporter": "python",
   "pygments_lexer": "ipython3",
   "version": "3.7.6"
  }
 },
 "nbformat": 4,
 "nbformat_minor": 4
}
